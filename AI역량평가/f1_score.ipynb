version https://git-lfs.github.com/spec/v1
oid sha256:56fd9b5cd89bc4d066b145a5bc0d7bd326728a1fafd2ce3d2173613299141202
size 3853
