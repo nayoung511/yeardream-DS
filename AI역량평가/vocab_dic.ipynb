version https://git-lfs.github.com/spec/v1
oid sha256:491dc9d4bbbc6120b8646c2eab6c1390dddd5b831ec4c6e0a162de86f535d800
size 3633
