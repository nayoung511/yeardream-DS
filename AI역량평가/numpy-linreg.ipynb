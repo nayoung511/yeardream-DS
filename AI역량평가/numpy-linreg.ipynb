version https://git-lfs.github.com/spec/v1
oid sha256:0532587f28ece9013a39c3d607f61df8793bd5ac18de65256114cd7233626617
size 5098
