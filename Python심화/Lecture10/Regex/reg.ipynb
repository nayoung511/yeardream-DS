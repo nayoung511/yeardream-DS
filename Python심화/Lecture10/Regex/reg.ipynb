{
 "cells": [
  {
   "attachments": {},
   "cell_type": "markdown",
   "metadata": {},
   "source": [
    "## REGEX"
   ]
  },
  {
   "cell_type": "code",
   "execution_count": 1,
   "metadata": {},
   "outputs": [],
   "source": [
    "import re"
   ]
  },
  {
   "cell_type": "code",
   "execution_count": 2,
   "metadata": {},
   "outputs": [],
   "source": [
    "string = \\\n",
    "\"\"\"\\\n",
    "010-1234-1234\n",
    "010-1234-5678\n",
    "+82-10-5678-5678\n",
    "+82-10-4123-1234\\\n",
    "\"\"\""
   ]
  },
  {
   "cell_type": "code",
   "execution_count": 3,
   "metadata": {},
   "outputs": [],
   "source": [
    "pattern = r'^(?:0|\\+82-)\\d{1,2}-(\\d{4})-\\1$'"
   ]
  },
  {
   "cell_type": "code",
   "execution_count": 4,
   "metadata": {},
   "outputs": [
    {
     "name": "stdout",
     "output_type": "stream",
     "text": [
      "010-1234-1234 1234\n",
      "+82-10-5678-5678 5678\n"
     ]
    }
   ],
   "source": [
    "for match in re.finditer(pattern, string, re.MULTILINE):\n",
    "    print(match.group(0), match.group(1))"
   ]
  },
  {
   "cell_type": "code",
   "execution_count": null,
   "metadata": {},
   "outputs": [],
   "source": [
    "pattern = r'^(?:0|\\+82-)\\d{1,2}-(\\d{4})-\\1$'"
   ]
  },
  {
   "cell_type": "code",
   "execution_count": 7,
   "metadata": {},
   "outputs": [
    {
     "name": "stdout",
     "output_type": "stream",
     "text": [
      "치환됨-1234\n",
      "010-1234-5678\n",
      "치환됨-5678\n",
      "+82-10-4123-1234\n"
     ]
    }
   ],
   "source": [
    "print(re.sub(pattern, r\"치환됨-\\1\", string, flags=re.MULTILINE))"
   ]
  },
  {
   "cell_type": "code",
   "execution_count": 8,
   "metadata": {},
   "outputs": [
    {
     "name": "stdout",
     "output_type": "stream",
     "text": [
      "치환됨-\u0000\n",
      "010-1234-5678\n",
      "치환됨-\u0000\n",
      "+82-10-4123-1234\n"
     ]
    }
   ],
   "source": [
    "print(re.sub(pattern, r\"치환됨-\\0\", string, flags=re.MULTILINE))"
   ]
  },
  {
   "cell_type": "code",
   "execution_count": 10,
   "metadata": {},
   "outputs": [
    {
     "name": "stdout",
     "output_type": "stream",
     "text": [
      "['', '1234', '\\n010-1234-5678\\n', '5678', '\\n+82-10-4123-1234']\n"
     ]
    }
   ],
   "source": [
    "print(re.split(pattern, string, flags = re.MULTILINE))"
   ]
  },
  {
   "cell_type": "code",
   "execution_count": null,
   "metadata": {},
   "outputs": [],
   "source": []
  }
 ],
 "metadata": {
  "kernelspec": {
   "display_name": "yeardream",
   "language": "python",
   "name": "python3"
  },
  "language_info": {
   "codemirror_mode": {
    "name": "ipython",
    "version": 3
   },
   "file_extension": ".py",
   "mimetype": "text/x-python",
   "name": "python",
   "nbconvert_exporter": "python",
   "pygments_lexer": "ipython3",
   "version": "3.9.16"
  },
  "orig_nbformat": 4
 },
 "nbformat": 4,
 "nbformat_minor": 2
}
