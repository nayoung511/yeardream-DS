version https://git-lfs.github.com/spec/v1
oid sha256:506e58c65d1ee22292a9f2306c3060a1fe1c75684be74688ddee4281c12e8ab4
size 106589
