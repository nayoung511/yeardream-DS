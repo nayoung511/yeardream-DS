{
  "nbformat": 4,
  "nbformat_minor": 0,
  "metadata": {
    "colab": {
      "provenance": [],
      "toc_visible": true
    },
    "kernelspec": {
      "name": "python3",
      "display_name": "Python 3"
    },
    "language_info": {
      "name": "python"
    }
  },
  "cells": [
    {
      "cell_type": "code",
      "source": [
        "!sudo apt-get install -y fonts-nanum\n",
        "!sudo fc-cache -fv\n",
        "!rm ~/.cache/matplotlib -rf"
      ],
      "metadata": {
        "id": "jwmbi46HcA-z",
        "colab": {
          "base_uri": "https://localhost:8080/"
        },
        "outputId": "2314bc23-d86c-46c2-c011-618c8aa77a61"
      },
      "execution_count": 1,
      "outputs": [
        {
          "output_type": "stream",
          "name": "stdout",
          "text": [
            "Reading package lists... Done\n",
            "Building dependency tree... Done\n",
            "Reading state information... Done\n",
            "The following NEW packages will be installed:\n",
            "  fonts-nanum\n",
            "0 upgraded, 1 newly installed, 0 to remove and 8 not upgraded.\n",
            "Need to get 10.3 MB of archives.\n",
            "After this operation, 34.1 MB of additional disk space will be used.\n",
            "Get:1 http://archive.ubuntu.com/ubuntu jammy/universe amd64 fonts-nanum all 20200506-1 [10.3 MB]\n",
            "Fetched 10.3 MB in 1s (8,522 kB/s)\n",
            "debconf: unable to initialize frontend: Dialog\n",
            "debconf: (No usable dialog-like program is installed, so the dialog based frontend cannot be used. at /usr/share/perl5/Debconf/FrontEnd/Dialog.pm line 78, <> line 1.)\n",
            "debconf: falling back to frontend: Readline\n",
            "debconf: unable to initialize frontend: Readline\n",
            "debconf: (This frontend requires a controlling tty.)\n",
            "debconf: falling back to frontend: Teletype\n",
            "dpkg-preconfigure: unable to re-open stdin: \n",
            "Selecting previously unselected package fonts-nanum.\n",
            "(Reading database ... 120493 files and directories currently installed.)\n",
            "Preparing to unpack .../fonts-nanum_20200506-1_all.deb ...\n",
            "Unpacking fonts-nanum (20200506-1) ...\n",
            "Setting up fonts-nanum (20200506-1) ...\n",
            "Processing triggers for fontconfig (2.13.1-4.2ubuntu5) ...\n",
            "/usr/share/fonts: caching, new cache contents: 0 fonts, 1 dirs\n",
            "/usr/share/fonts/truetype: caching, new cache contents: 0 fonts, 3 dirs\n",
            "/usr/share/fonts/truetype/humor-sans: caching, new cache contents: 1 fonts, 0 dirs\n",
            "/usr/share/fonts/truetype/liberation: caching, new cache contents: 16 fonts, 0 dirs\n",
            "/usr/share/fonts/truetype/nanum: caching, new cache contents: 12 fonts, 0 dirs\n",
            "/usr/local/share/fonts: caching, new cache contents: 0 fonts, 0 dirs\n",
            "/root/.local/share/fonts: skipping, no such directory\n",
            "/root/.fonts: skipping, no such directory\n",
            "/usr/share/fonts/truetype: skipping, looped directory detected\n",
            "/usr/share/fonts/truetype/humor-sans: skipping, looped directory detected\n",
            "/usr/share/fonts/truetype/liberation: skipping, looped directory detected\n",
            "/usr/share/fonts/truetype/nanum: skipping, looped directory detected\n",
            "/var/cache/fontconfig: cleaning cache directory\n",
            "/root/.cache/fontconfig: not cleaning non-existent cache directory\n",
            "/root/.fontconfig: not cleaning non-existent cache directory\n",
            "fc-cache: succeeded\n"
          ]
        }
      ]
    },
    {
      "cell_type": "markdown",
      "metadata": {
        "id": "jR26RFkwXtvi"
      },
      "source": [
        "# **실습 1 (기초 미적분 & 확률과 통계)**\n",
        "직접 문제들을 풀어보며, 기초를 다져보도록 합시다.\n",
        "\n",
        "> ## Q1. Marginalization\n",
        "\n",
        "> ## L1. Independence of two random variables\n",
        "\n",
        "> ## Q2. Independence\n",
        "\n",
        "> ## L2. Functions of random variables\n",
        "\n",
        "> ## Q3. Expectation and variance\n",
        "\n",
        "> ## Q4. Various probability distributions\n",
        "\n",
        "> ## L3. Law of total probability\n",
        "\n",
        "> ## Q5. Bayes rule"
      ]
    },
    {
      "cell_type": "markdown",
      "source": [
        "\n",
        "\n",
        "---\n",
        "\n"
      ],
      "metadata": {
        "id": "kI_RJVUgYK7A"
      }
    },
    {
      "cell_type": "markdown",
      "source": [
        "# Q1. Marginalization\n",
        "\n",
        "> marginal distribution이란, random variables가 2개 이상 존재하는 확률분포인 joint probability distribution **(e.g., p(X,Y))** 에서, 우리가 원하는 random variables **(e.g., X)** 으로 이루어진 확률 분포 **(e.g., p(X))** 만 남긴 확률 분포를 의미합니다."
      ],
      "metadata": {
        "id": "cSfXXuvjrlfm"
      }
    },
    {
      "cell_type": "markdown",
      "source": [
        "## Q1-1. 다음 표에 주어진 값을 joint probability mass function으로 갖는, 두 discrete random variables X, Y가 있다.\n"
      ],
      "metadata": {
        "id": "C8v6Xb6erlfy"
      }
    },
    {
      "cell_type": "markdown",
      "source": [
        "|  X\\Y     | Y = 2 | Y = 4 | Y=5 |\n",
        "| ----------- | ----------- | ----------- | ----------- |\n",
        "| X = 1      | 1/12       | 1/24 | 1/24 |\n",
        "| X = 2   | 1/6        | 1/12 | 1/8 |\n",
        "| X = 3   | 1/4        | 1/8 | 1/12 |\n"
      ],
      "metadata": {
        "id": "0MjnW2aBrlfz"
      }
    },
    {
      "cell_type": "markdown",
      "source": [
        "> ### Q1-1-1. $P(X\\leq2, Y\\leq4)$의 값은?\n",
        "\n",
        "> A1-1-1.  \n",
        "\n",
        "> $P(X\\leq2, Y\\leq4) \\\\\n",
        "= P_{X,Y}(1,2) + P_{X,Y}(1,4) + P_{X,Y}(2,2) + P_{X,Y}(2,4) \\\\\n",
        "= 1/12 + 1/24 + 1/6 + 1/12 = 3/8$"
      ],
      "metadata": {
        "id": "rYjam23Drlfz"
      }
    },
    {
      "cell_type": "markdown",
      "source": [
        "> ### Q1-1-2. Random variable X, Y 각각의 marginal pmf를 구하시오.\n",
        "\n",
        "> A1-1-2.\n",
        "\n",
        "> $P_X(x) =\n",
        "\\begin{cases}\n",
        "1/6 \\; (x=1) \\\\\n",
        "3/8 \\; (x=2) \\\\\n",
        "11/24 \\; (x=3) \\\\\n",
        "0 \\; \\text{(otherwise)}\n",
        "\\end{cases}\n",
        "$\n",
        "\n",
        "\n",
        "> $P_Y(y) =\n",
        "\\begin{cases}\n",
        "1/2 \\; (y=2) \\\\\n",
        "1/4 \\; (y=4) \\\\\n",
        "1/4 \\; (y=5) \\\\\n",
        "0 \\; \\text{(otherwise)}\n",
        "\\end{cases}\n",
        "$"
      ],
      "metadata": {
        "id": "ZkpQtDWArlfz"
      }
    },
    {
      "cell_type": "markdown",
      "source": [
        "> ### Q1-1-3. $P(Y=2 | X=1)$ 의 값은?\n",
        "\n",
        "> A1-1-3.\n",
        "\n",
        "> $P(Y=2 \\; | \\; X=1) \\\\\n",
        "= P(X=1, Y=2) \\; / \\; P(X=1) \\\\\n",
        "= P_{X,Y}(1,2) \\; / \\; P_X(1) \\\\\n",
        "= 1/12 \\; / \\; 1/6 \\\\\n",
        "= 1/2.\n",
        "$"
      ],
      "metadata": {
        "id": "QQBopGferlfz"
      }
    },
    {
      "cell_type": "markdown",
      "source": [
        "## Q1-2. 다음 표에 주어진 값을 joint probability density function으로 갖는, 두 continuous random variables X, Y가 있다.\n"
      ],
      "metadata": {
        "id": "SysvfUberlf0"
      }
    },
    {
      "cell_type": "markdown",
      "source": [
        "$$\n",
        "f_{X,Y}(x,y) = \\begin{cases} cx + 1 \\quad (x,y \\geq 0, x+y < 1) \\\\ 0 \\qquad \\; \\; \\text{(otherwise)} \\end{cases}\n",
        "$$\n",
        "\n",
        "위의 식에서 알 수 있듯, 두 확률변수 X, Y가 값을 가질 수 있는 공간은 아래 그림과 같다."
      ],
      "metadata": {
        "id": "U8Sh4Tidrlf0"
      }
    },
    {
      "cell_type": "code",
      "source": [
        "import matplotlib.pyplot as plt\n",
        "import numpy as np\n",
        "plt.rc('font', family='NanumBarunGothic')\n",
        "\n",
        "x = np.linspace(0, 1, 100)\n",
        "y = 1 - x\n",
        "\n",
        "fig, ax = plt.subplots()\n",
        "ax.plot(x, y, 'k-', label='x+y=1')\n",
        "ax.plot([0, 0], [0, 1], 'b-', label='x=0')\n",
        "ax.plot([0, 1], [0, 0], 'r-', label='y=0')\n",
        "\n",
        "# Fill the area\n",
        "ax.fill_between(x, y, color='gray', alpha=0.5)\n",
        "\n",
        "# Set labels\n",
        "# ax.set_xlabel('x')\n",
        "# ax.set_ylabel('y')\n",
        "# Set labels near the arrow\n",
        "ax.annotate('x', xy=(1.1, 0.05), fontsize=12)\n",
        "ax.annotate('y', xy=(0.05, 1.1), fontsize=12)\n",
        "\n",
        "# Set title\n",
        "ax.set_title('X, Y가 값을 가질 수 있는 공간')\n",
        "\n",
        "# Set limits\n",
        "ax.set_xlim([0, 1.2])\n",
        "ax.set_ylim([0, 1.2])\n",
        "\n",
        "# Add a legend\n",
        "ax.legend()\n",
        "\n",
        "# Add arrows\n",
        "ax.annotate('', xy=(1.1, 0), xytext=(1, 0), arrowprops=dict(arrowstyle='->'))\n",
        "ax.annotate('', xy=(0, 1.1), xytext=(0, 1), arrowprops=dict(arrowstyle='->'))\n",
        "\n",
        "\n",
        "plt.show()"
      ],
      "metadata": {
        "colab": {
          "base_uri": "https://localhost:8080/",
          "height": 1000
        },
        "outputId": "8d7d1cd3-4c82-4a6a-f1e7-5a474d1b4c1d",
        "id": "FLQ39ZbFrlf0"
      },
      "execution_count": 2,
      "outputs": [
        {
          "output_type": "stream",
          "name": "stderr",
          "text": [
            "WARNING:matplotlib.font_manager:findfont: Font family 'NanumBarunGothic' not found.\n",
            "WARNING:matplotlib.font_manager:findfont: Font family 'NanumBarunGothic' not found.\n",
            "WARNING:matplotlib.font_manager:findfont: Font family 'NanumBarunGothic' not found.\n",
            "WARNING:matplotlib.font_manager:findfont: Font family 'NanumBarunGothic' not found.\n",
            "WARNING:matplotlib.font_manager:findfont: Font family 'NanumBarunGothic' not found.\n",
            "WARNING:matplotlib.font_manager:findfont: Font family 'NanumBarunGothic' not found.\n",
            "WARNING:matplotlib.font_manager:findfont: Font family 'NanumBarunGothic' not found.\n",
            "WARNING:matplotlib.font_manager:findfont: Font family 'NanumBarunGothic' not found.\n",
            "WARNING:matplotlib.font_manager:findfont: Font family 'NanumBarunGothic' not found.\n",
            "WARNING:matplotlib.font_manager:findfont: Font family 'NanumBarunGothic' not found.\n",
            "/usr/local/lib/python3.10/dist-packages/IPython/core/pylabtools.py:151: UserWarning: Glyph 44032 (\\N{HANGUL SYLLABLE GA}) missing from current font.\n",
            "  fig.canvas.print_figure(bytes_io, **kw)\n",
            "/usr/local/lib/python3.10/dist-packages/IPython/core/pylabtools.py:151: UserWarning: Glyph 44050 (\\N{HANGUL SYLLABLE GABS}) missing from current font.\n",
            "  fig.canvas.print_figure(bytes_io, **kw)\n",
            "/usr/local/lib/python3.10/dist-packages/IPython/core/pylabtools.py:151: UserWarning: Glyph 51012 (\\N{HANGUL SYLLABLE EUL}) missing from current font.\n",
            "  fig.canvas.print_figure(bytes_io, **kw)\n",
            "/usr/local/lib/python3.10/dist-packages/IPython/core/pylabtools.py:151: UserWarning: Glyph 51656 (\\N{HANGUL SYLLABLE JIL}) missing from current font.\n",
            "  fig.canvas.print_figure(bytes_io, **kw)\n",
            "/usr/local/lib/python3.10/dist-packages/IPython/core/pylabtools.py:151: UserWarning: Glyph 49688 (\\N{HANGUL SYLLABLE SU}) missing from current font.\n",
            "  fig.canvas.print_figure(bytes_io, **kw)\n",
            "/usr/local/lib/python3.10/dist-packages/IPython/core/pylabtools.py:151: UserWarning: Glyph 51080 (\\N{HANGUL SYLLABLE ISS}) missing from current font.\n",
            "  fig.canvas.print_figure(bytes_io, **kw)\n",
            "/usr/local/lib/python3.10/dist-packages/IPython/core/pylabtools.py:151: UserWarning: Glyph 45716 (\\N{HANGUL SYLLABLE NEUN}) missing from current font.\n",
            "  fig.canvas.print_figure(bytes_io, **kw)\n",
            "/usr/local/lib/python3.10/dist-packages/IPython/core/pylabtools.py:151: UserWarning: Glyph 44277 (\\N{HANGUL SYLLABLE GONG}) missing from current font.\n",
            "  fig.canvas.print_figure(bytes_io, **kw)\n",
            "/usr/local/lib/python3.10/dist-packages/IPython/core/pylabtools.py:151: UserWarning: Glyph 44036 (\\N{HANGUL SYLLABLE GAN}) missing from current font.\n",
            "  fig.canvas.print_figure(bytes_io, **kw)\n",
            "WARNING:matplotlib.font_manager:findfont: Font family 'NanumBarunGothic' not found.\n",
            "WARNING:matplotlib.font_manager:findfont: Font family 'NanumBarunGothic' not found.\n",
            "WARNING:matplotlib.font_manager:findfont: Font family 'NanumBarunGothic' not found.\n",
            "WARNING:matplotlib.font_manager:findfont: Font family 'NanumBarunGothic' not found.\n",
            "WARNING:matplotlib.font_manager:findfont: Font family 'NanumBarunGothic' not found.\n",
            "WARNING:matplotlib.font_manager:findfont: Font family 'NanumBarunGothic' not found.\n",
            "WARNING:matplotlib.font_manager:findfont: Font family 'NanumBarunGothic' not found.\n",
            "WARNING:matplotlib.font_manager:findfont: Font family 'NanumBarunGothic' not found.\n",
            "WARNING:matplotlib.font_manager:findfont: Font family 'NanumBarunGothic' not found.\n",
            "WARNING:matplotlib.font_manager:findfont: Font family 'NanumBarunGothic' not found.\n",
            "WARNING:matplotlib.font_manager:findfont: Font family 'NanumBarunGothic' not found.\n",
            "WARNING:matplotlib.font_manager:findfont: Font family 'NanumBarunGothic' not found.\n",
            "WARNING:matplotlib.font_manager:findfont: Font family 'NanumBarunGothic' not found.\n",
            "WARNING:matplotlib.font_manager:findfont: Font family 'NanumBarunGothic' not found.\n",
            "WARNING:matplotlib.font_manager:findfont: Font family 'NanumBarunGothic' not found.\n",
            "WARNING:matplotlib.font_manager:findfont: Font family 'NanumBarunGothic' not found.\n",
            "WARNING:matplotlib.font_manager:findfont: Font family 'NanumBarunGothic' not found.\n",
            "WARNING:matplotlib.font_manager:findfont: Font family 'NanumBarunGothic' not found.\n",
            "WARNING:matplotlib.font_manager:findfont: Font family 'NanumBarunGothic' not found.\n",
            "WARNING:matplotlib.font_manager:findfont: Font family 'NanumBarunGothic' not found.\n",
            "WARNING:matplotlib.font_manager:findfont: Font family 'NanumBarunGothic' not found.\n",
            "WARNING:matplotlib.font_manager:findfont: Font family 'NanumBarunGothic' not found.\n",
            "WARNING:matplotlib.font_manager:findfont: Font family 'NanumBarunGothic' not found.\n",
            "WARNING:matplotlib.font_manager:findfont: Font family 'NanumBarunGothic' not found.\n",
            "WARNING:matplotlib.font_manager:findfont: Font family 'NanumBarunGothic' not found.\n",
            "WARNING:matplotlib.font_manager:findfont: Font family 'NanumBarunGothic' not found.\n",
            "WARNING:matplotlib.font_manager:findfont: Font family 'NanumBarunGothic' not found.\n",
            "WARNING:matplotlib.font_manager:findfont: Font family 'NanumBarunGothic' not found.\n",
            "WARNING:matplotlib.font_manager:findfont: Font family 'NanumBarunGothic' not found.\n",
            "WARNING:matplotlib.font_manager:findfont: Font family 'NanumBarunGothic' not found.\n",
            "WARNING:matplotlib.font_manager:findfont: Font family 'NanumBarunGothic' not found.\n",
            "WARNING:matplotlib.font_manager:findfont: Font family 'NanumBarunGothic' not found.\n",
            "WARNING:matplotlib.font_manager:findfont: Font family 'NanumBarunGothic' not found.\n",
            "WARNING:matplotlib.font_manager:findfont: Font family 'NanumBarunGothic' not found.\n",
            "WARNING:matplotlib.font_manager:findfont: Font family 'NanumBarunGothic' not found.\n",
            "WARNING:matplotlib.font_manager:findfont: Font family 'NanumBarunGothic' not found.\n",
            "WARNING:matplotlib.font_manager:findfont: Font family 'NanumBarunGothic' not found.\n",
            "WARNING:matplotlib.font_manager:findfont: Font family 'NanumBarunGothic' not found.\n",
            "WARNING:matplotlib.font_manager:findfont: Font family 'NanumBarunGothic' not found.\n",
            "WARNING:matplotlib.font_manager:findfont: Font family 'NanumBarunGothic' not found.\n",
            "WARNING:matplotlib.font_manager:findfont: Font family 'NanumBarunGothic' not found.\n",
            "WARNING:matplotlib.font_manager:findfont: Font family 'NanumBarunGothic' not found.\n",
            "WARNING:matplotlib.font_manager:findfont: Font family 'NanumBarunGothic' not found.\n",
            "WARNING:matplotlib.font_manager:findfont: Font family 'NanumBarunGothic' not found.\n",
            "WARNING:matplotlib.font_manager:findfont: Font family 'NanumBarunGothic' not found.\n",
            "WARNING:matplotlib.font_manager:findfont: Font family 'NanumBarunGothic' not found.\n",
            "WARNING:matplotlib.font_manager:findfont: Font family 'NanumBarunGothic' not found.\n",
            "WARNING:matplotlib.font_manager:findfont: Font family 'NanumBarunGothic' not found.\n",
            "WARNING:matplotlib.font_manager:findfont: Font family 'NanumBarunGothic' not found.\n",
            "WARNING:matplotlib.font_manager:findfont: Font family 'NanumBarunGothic' not found.\n",
            "WARNING:matplotlib.font_manager:findfont: Font family 'NanumBarunGothic' not found.\n",
            "WARNING:matplotlib.font_manager:findfont: Font family 'NanumBarunGothic' not found.\n",
            "WARNING:matplotlib.font_manager:findfont: Font family 'NanumBarunGothic' not found.\n",
            "WARNING:matplotlib.font_manager:findfont: Font family 'NanumBarunGothic' not found.\n",
            "WARNING:matplotlib.font_manager:findfont: Font family 'NanumBarunGothic' not found.\n",
            "WARNING:matplotlib.font_manager:findfont: Font family 'NanumBarunGothic' not found.\n",
            "WARNING:matplotlib.font_manager:findfont: Font family 'NanumBarunGothic' not found.\n",
            "WARNING:matplotlib.font_manager:findfont: Font family 'NanumBarunGothic' not found.\n",
            "WARNING:matplotlib.font_manager:findfont: Font family 'NanumBarunGothic' not found.\n",
            "WARNING:matplotlib.font_manager:findfont: Font family 'NanumBarunGothic' not found.\n",
            "WARNING:matplotlib.font_manager:findfont: Font family 'NanumBarunGothic' not found.\n",
            "WARNING:matplotlib.font_manager:findfont: Font family 'NanumBarunGothic' not found.\n",
            "WARNING:matplotlib.font_manager:findfont: Font family 'NanumBarunGothic' not found.\n",
            "WARNING:matplotlib.font_manager:findfont: Font family 'NanumBarunGothic' not found.\n",
            "WARNING:matplotlib.font_manager:findfont: Font family 'NanumBarunGothic' not found.\n",
            "WARNING:matplotlib.font_manager:findfont: Font family 'NanumBarunGothic' not found.\n",
            "WARNING:matplotlib.font_manager:findfont: Font family 'NanumBarunGothic' not found.\n",
            "WARNING:matplotlib.font_manager:findfont: Font family 'NanumBarunGothic' not found.\n",
            "WARNING:matplotlib.font_manager:findfont: Font family 'NanumBarunGothic' not found.\n",
            "WARNING:matplotlib.font_manager:findfont: Font family 'NanumBarunGothic' not found.\n",
            "WARNING:matplotlib.font_manager:findfont: Font family 'NanumBarunGothic' not found.\n",
            "WARNING:matplotlib.font_manager:findfont: Font family 'NanumBarunGothic' not found.\n",
            "WARNING:matplotlib.font_manager:findfont: Font family 'NanumBarunGothic' not found.\n",
            "WARNING:matplotlib.font_manager:findfont: Font family 'NanumBarunGothic' not found.\n",
            "WARNING:matplotlib.font_manager:findfont: Font family 'NanumBarunGothic' not found.\n",
            "WARNING:matplotlib.font_manager:findfont: Font family 'NanumBarunGothic' not found.\n",
            "WARNING:matplotlib.font_manager:findfont: Font family 'NanumBarunGothic' not found.\n",
            "WARNING:matplotlib.font_manager:findfont: Font family 'NanumBarunGothic' not found.\n",
            "WARNING:matplotlib.font_manager:findfont: Font family 'NanumBarunGothic' not found.\n"
          ]
        },
        {
          "output_type": "display_data",
          "data": {
            "text/plain": [
              "<Figure size 640x480 with 1 Axes>"
            ],
            "image/png": "[encoded data removed]"
          },
          "metadata": {}
        }
      ]
    },
    {
      "cell_type": "markdown",
      "source": [
        "> ### Q1-2-1. c의 값은?\n",
        "\n",
        "> A1-2-1.\n",
        "\n",
        "> $1 = \\int_{-\\infty}^\\infty \\int_{-\\infty}^\\infty f_{X,Y}(x,y) \\; dxdy \\\\\n",
        "= \\int_0^1 \\int_0^{1-x} cx+1 \\; dydx \\\\\n",
        "= \\int_0^1 (cx+1)(1-x) \\; dx \\\\\n",
        "= 1/2 + c/6 = 1.\n",
        "$\n",
        "\n",
        "> Therefore, $c=3$."
      ],
      "metadata": {
        "id": "T4kdYwR1rlf1"
      }
    },
    {
      "cell_type": "markdown",
      "source": [
        "> ### Q1-2-2. Random variable X, Y 각각의 marginal pdf를 구하시오.\n",
        "\n",
        "> A1-2-2.\n",
        "\n",
        "> $ f_X(x) = \\int_{-\\infty}^{\\infty} f_{X,Y}(x,y) \\; dy \\\\\n",
        "= \\int_0^{1-x} 3x+1 \\; dy \\\\\n",
        "= (3x+1)(1-x) \\quad (x \\in [0,1]).\n",
        "$\n",
        "\n",
        "\n",
        "> Therefore,\n",
        "$f_X(x): \\\\\n",
        "- (3x+1)(1-x) \\; (0 \\leq x \\leq 1) \\\\\n",
        "- 0 \\; \\text{(otherwise)}\n",
        "$\n",
        "\n",
        "\\\\\n",
        "\n",
        "> $ f_Y(y) = \\int_{-\\infty}^{\\infty} f_{X,Y}(x,y) \\; dy \\\\\n",
        "= \\int_0^{1-y} 3x+1 \\; dx \\\\\n",
        "= 1/2(1-y)(5-3y) \\quad (x \\in [0,1]).\n",
        "$\n",
        "\n",
        "\n",
        "> Therefore,\n",
        "$f_Y(y): \\\\\n",
        "- 1/2(1-y)(5-3y) \\; (0 \\leq x \\leq 1) \\\\\n",
        "- 0 \\; \\text{(otherwise)}\n",
        "$"
      ],
      "metadata": {
        "id": "jzC7fMg6rlf2"
      }
    },
    {
      "cell_type": "markdown",
      "source": [
        "\n",
        "> ### Q1-2-3. $P(Y < 2X^2)$는?\n",
        "\n",
        "> A1-2-3.\n",
        "\n",
        "> $P(Y<2X^2)$를 구하기 위해서는, 다음과 같은 영역의 넓이를 구해야 한다."
      ],
      "metadata": {
        "id": "vy7NpXoQrlf2"
      }
    },
    {
      "cell_type": "code",
      "source": [
        "import matplotlib.pyplot as plt\n",
        "import numpy as np\n",
        "plt.rc('font', family='NanumBarunGothic')\n",
        "\n",
        "x1 = np.linspace(0, 0.5, 50)\n",
        "x2 = np.linspace(0.5, 50)\n",
        "x = np.linspace(0,1,100)\n",
        "\n",
        "def f1(x):\n",
        "    return 2 * x**2\n",
        "def f2(x):\n",
        "    return 1 - x\n",
        "\n",
        "y1_full = f1(x)\n",
        "y2_full = f2(x)\n",
        "y1 = f1(x1)\n",
        "y2 = f2(x2)\n",
        "\n",
        "fig, ax = plt.subplots()\n",
        "\n",
        "ax.plot(x, y1_full, label='y = 1 - x')\n",
        "ax.plot(x, y2_full, label='y = 2x^2')\n",
        "\n",
        "# ax.plot(x, y, 'k-', label='x+y=1')\n",
        "ax.plot([0, 0], [0, 1], 'b-', label='x=0')\n",
        "ax.plot([0, 1], [0, 0], 'r-', label='y=0')\n",
        "\n",
        "# Fill the area\n",
        "ax.fill_between(x1, y1, color='gray', alpha=0.5)\n",
        "ax.fill_between(x2, y2, color='gray', alpha=0.5)\n",
        "\n",
        "# Set labels\n",
        "# Set labels near the arrow\n",
        "ax.annotate('x', xy=(1.1, 0.05), fontsize=12)\n",
        "ax.annotate('y', xy=(0.05, 1.1), fontsize=12)\n",
        "\n",
        "# Set title\n",
        "ax.set_title('X, Y가 값을 가질 수 있는 공간')\n",
        "\n",
        "# Set limits\n",
        "ax.set_xlim([0, 1.2])\n",
        "ax.set_ylim([0, 1.2])\n",
        "\n",
        "# Add a legend\n",
        "ax.legend()\n",
        "\n",
        "# Add arrows\n",
        "ax.annotate('', xy=(1.1, 0), xytext=(1, 0), arrowprops=dict(arrowstyle='->'))\n",
        "ax.annotate('', xy=(0, 1.1), xytext=(0, 1), arrowprops=dict(arrowstyle='->'))\n",
        "\n",
        "\n",
        "plt.show()"
      ],
      "metadata": {
        "colab": {
          "base_uri": "https://localhost:8080/",
          "height": 451
        },
        "outputId": "605b7791-39d4-40db-9678-1b8b99f5cda3",
        "id": "g_OfJ_Onrlf2"
      },
      "execution_count": null,
      "outputs": [
        {
          "output_type": "display_data",
          "data": {
            "text/plain": [
              "<Figure size 640x480 with 1 Axes>"
            ],
            "image/png": "[encoded data removed]"
          },
          "metadata": {}
        }
      ]
    },
    {
      "cell_type": "markdown",
      "source": [
        "> 위 그림에서 알 수 있듯, x의 구간을 [0, 0.5], [0.5, 1] 두 개로 나눠서 적분을 수행하면 된다.\n",
        "$P(Y<2X^2)= \\int_0^{0.5} \\int_0^{2x^2} f_{X,Y}(x,y) \\; dydx + \\int_{0.5}^1 \\int_0^{1-x} f_{X,Y}(x,y) \\; dydx \\\\\n",
        "= \\int_0^{0.5} (3x+1)(2x^2)  \\;dx + \\int_{0.5}^1 (3x+1)(1-x) dx\\\\\n",
        "= 53/96.\n",
        "$"
      ],
      "metadata": {
        "id": "89a_PMTUrlf3"
      }
    },
    {
      "cell_type": "markdown",
      "source": [
        "# Q2. Independence"
      ],
      "metadata": {
        "id": "zcLfy6FXrlf3"
      }
    },
    {
      "cell_type": "markdown",
      "source": [
        "> ### Q2-1. Random variable X를, 평평한 동전 (i.e., 앞면이 나올 확률=0.5) 을 두번 던져서 앞면이 나오는 횟수라고 합시다 (X는 0,1,2의 값을 가질 수 있음). 동전을 두번 던진 이후, 같은 동전을 다시 두번 더 던져서 이때 앞면이 나오는 횟수를 Y라고 합시다 (Y는 0,1,2의 값을 가질 수 있음). 이때 $P((X<2) \\; \\text{and} \\; (Y>1))$을 구하시오.\n",
        "\n",
        "> A2-1.\n",
        "\n",
        "> $X$와 $Y$는 서로 영향을 끼치지 않는 독립적인 시행이므로 (앞에 2번 앞면 나왔다고 해서, 뒤에 2번 던질 때 뒷면이 나오는 확률이 올라가거나 하지 않으므로), 아래와 같이 식을 전개할 수 있다.\n",
        "$$\n",
        "P((X<2) \\; \\text{and} \\; (Y>1)) \\; = \\; P(X<2)\\;P(Y>1) \\\\\n",
        "= (P_X(0) + P_X(1)) \\; P_Y(2) \\\\\n",
        "= (1/4 + 1/2) * 1/4 = 3/16\n",
        "$$"
      ],
      "metadata": {
        "id": "UTDY3hDxrlf3"
      }
    },
    {
      "cell_type": "markdown",
      "source": [
        "> ### Q2-2. Q1-1의 X와 Y는 서로 독립인가?\n",
        "\n",
        "> A2-2.\n",
        "\n",
        "> X와 Y가 모든 사건 x,y에 대해 $P(X=x)P(Y=y) \\; = \\; P(X=x,Y=y)$ 를 만족하면 두 r.v.는 독립이다.\n",
        "반례를 찾을 수 있으면 독립이 아니다.\n",
        "\n",
        "$$\n",
        "P(X=2) = 3/8 \\\\\n",
        "P(Y=2) = 1/2 \\\\\n",
        "P(X=2, Y=2) = 1/6\n",
        "$$\n",
        "\n",
        "> 따라서 X=2, Y=2에 대해 위의 식을 만족하지 못하므로 두 확률변수는 독립이 아니다."
      ],
      "metadata": {
        "id": "uJWkk2v6rlf3"
      }
    },
    {
      "cell_type": "markdown",
      "source": [
        "> ### Q2-3. Q1-2의 X와 Y는 서로 독립인가?\n",
        "\n",
        "> A2-3.\n",
        "\n",
        "> $f_{X,Y}(x,y) \\; \\neq \\; f_X(x) \\; f_Y(y)$이다. 따라서 두 확률변수는 독립이 아니다. 직관적으로도, x가 가질 수 있는 값이 y에 의해 영향을 받기에 (x+y < 1), 독립이 아닐 것이라고 추측할 수 있다.\n"
      ],
      "metadata": {
        "id": "AmrulTFYrlf4"
      }
    },
    {
      "cell_type": "markdown",
      "source": [
        "# Q3. Expectation and Variance"
      ],
      "metadata": {
        "id": "v6dZ38eVrlf4"
      }
    },
    {
      "cell_type": "markdown",
      "source": [
        "> ## Q3-1. X를 다음과 같은 probability mass function을 같는 random variable이라고 하자.\n",
        "$$P_X(k) =\n",
        "\\begin{cases}\n",
        "\\, 0.1 \\; (\\text{for} \\; k=0) \\\\\n",
        "0.4 \\; (\\text{for} \\; k=1) \\\\\n",
        "0.3 \\; (\\text{for} \\; k=2) \\\\\n",
        "0.2 \\; (\\text{for} \\; k=3) \\\\\n",
        "0.0 \\; (\\text{otherwise}) \\\\\n",
        "\\end{cases}\n",
        "$$\n",
        "\n",
        "> ### Q3-1-1. X의 expectation을 구하시오.\n",
        "\n",
        "> ### A3-1-1.\n",
        "$$\n",
        "E(X) = \\sum_{x_k \\in X} x_k P_X(x_k) \\\\\n",
        "= 0(0.1) + 1(0.4) + 2(0.3) + 3(0.2) = 1.6\n",
        "$$\n",
        "\n",
        "> ### Q3-1-2. X의 variance를 구하시오.\n",
        "\n",
        "> ### A3-1-2.\n",
        "$$\n",
        "Var(X) = E(X^2) - (E(X))^2 \\\\\n",
        "= 0^2(0.1) + 1^2(0.4) + 2^2(0.3) + 3^2(0.2) - (1.6)^2 = 0.84\n",
        "$$\n",
        "\n",
        "> ### Q3-1-3. $Y = (X-2)^2$일 때, E(Y)를 구하시오.\n",
        "\n",
        "> ### A3-1-3.\n",
        "$$\n",
        "E(Y) = E(g(X)) = E((X-2)^2) = 4(0.1) + 1(0.4) + 0(0.3) + 1(0.2) = 1.0\n",
        "$$\n",
        "\n",
        "> ### Q3-1-4. X의 cumulative distribution function (CDF)를 구하시오.\n",
        "\n",
        "> ### A3-1-4.\n",
        "$$\n",
        "F_X(k) =\n",
        "\\begin{cases}\n",
        "0 \\quad (\\text{for} \\; k<0) \\\\\n",
        "P_X(0) = 0.1 \\quad (\\text{for} \\; 0 \\leq k < 1) \\\\\n",
        "P_X(0) + P_X(1) = 0.5 \\quad (\\text{for} \\; 1 \\leq k < 2) \\\\\n",
        "P_X(0) + P_X(1) + P_X(2) = 0.8 \\quad (\\text{for} \\; 2 \\leq k < 3) \\\\\n",
        "1 \\quad (\\text{for} \\; k \\geq 3) \\\\\n",
        "\\end{cases}\n",
        "$$"
      ],
      "metadata": {
        "id": "6RlK_MkTrlf4"
      }
    },
    {
      "cell_type": "markdown",
      "source": [
        "> ## Q3-2. X를 다음과 같은 probability density function을 갖는 random variable이라고 하자.\n",
        "$$\n",
        "f_{X,Y}(x,y) = \\begin{cases} cx^2 \\quad (|x| \\leq 1) \\\\ 0 \\quad \\; \\; \\text{(otherwise)} \\end{cases}\n",
        "$$\n",
        "\n",
        "\n",
        "\n",
        "\n",
        "> ### Q3-2-1. c를 구하시오.\n",
        "\n",
        "> ### A3-2-1.\n",
        "$$\n",
        "1 = \\int_{-\\infty}^\\infty f_x(u) du = \\int_{-1}^1 \\; cu^2 du = 2c/3.\n",
        "$$\n",
        "Therefore c=3/2.\n",
        "\n",
        "\n",
        "> ### Q3-2-2. E(x)와 Var(X)를 구하시오.\n",
        "\n",
        "> ### A3-2-2.\n",
        "$$\n",
        "E(X) = \\int_{-1}^1 \\; u \\; f_X(u) du = 3/2 *  \\int_{-1}^1 \\; u^3 du = 0.\n",
        "$$\n",
        "$$\n",
        "Var(X) = E(X^2) - (E(X))^2 = 3/2 * \\int_{-1}^1 \\; u^4 du = 3/2 * 2/5 = 3/5.\n",
        "$$\n",
        "\n",
        "> ### Q3-2-3. $P(X\\geq 1/2)$를 구하시오.\n",
        "> ### A3-2-3.\n",
        "$$\n",
        "P(X \\geq 1/2) = 3/2 * \\int_{1/2}^1 x^2 dx = 7/16.\n",
        "$$"
      ],
      "metadata": {
        "id": "WCgJzM6prlf4"
      }
    },
    {
      "cell_type": "markdown",
      "source": [
        "> ## Q3-3. $E(Y) = E(g(X)) = \\sum_{x_k \\in R_x} \\; g(x_k) \\; P_X(x_k)$라는 사실을 이용하여, 다음 식을 보이시오.\n",
        "$$\n",
        "E(aX+b) = aE(X) + b \\; \\; \\text{(linearity of expectation)}.\n",
        "$$\n",
        "\n",
        "> A3-3.\n",
        "$$\n",
        "E(aX+b) \\\\ = \\sum_{x_k \\in R_X} (ax_k + b) P_X(x_k) \\\\\n",
        "= a \\sum_{x_k \\in R_X} \\; x_k \\; P_X(x_k) \\; + \\; b \\sum_{x_k \\in R_X} \\; P_X(x_k) \\\\\n",
        "= aE(X) + b.\n",
        "$$\n"
      ],
      "metadata": {
        "id": "VWMckwxQrlf5"
      }
    },
    {
      "cell_type": "markdown",
      "source": [
        "# Q4. Various distributions"
      ],
      "metadata": {
        "id": "ku3ByAJHrlf5"
      }
    },
    {
      "cell_type": "markdown",
      "source": [
        "> ## Q4-1. 시험에서 4지선다 문제를 총 10문제 풀어야 한다. 이때, 모든 문제를 전부 random으로 찍는다고 하자 (즉, 문제당 맞출 확률 1/4). $X$를 내가 정답으로 맞추는 문제의 개수라고 할 때, $X$의 probability mass function을 찾고, $P(X>8)$를 구하시오.\n",
        "\n",
        "> ### A4-1.  각각의 문제를 푸는 행위가 독립적이고, 각 시행당 맞추냐/틀리느냐의 2가지 경우의 수가 존재하는 경우이므로, Binomial distribution으로 모델링 할 수 있다.\n",
        "$$\n",
        "P_X(x) =\n",
        "\\begin{cases}\n",
        "{10 \\choose x} (1/4)^x (3/4)^{10-x}\n",
        "\\end{cases}\n",
        "$$\n",
        "따라서,\n",
        "$$\n",
        "P(X>8) = P(X=10) + P(X=9) = (1/4)^10 + 10*(1/4)^9*(3/4)\n",
        "$$\n",
        "이다.\n",
        "\n",
        "\\\\\n",
        "\n",
        "> ## Q4-2. 직장에 출근했을 때, 평균적으로 1분에 0.2개의 이메일을 받는다고 생각해보자.\n",
        "\n",
        "> ### Q4-2-1. 5분 동안 1개의 메일도 받지 않을 확률을 구하시오\n",
        "\n",
        "> ### A4-2-1. 단위 시간당 평균값을 알고 있으므로, poisson distribution으로 모델링 할 수 있다.\n",
        "X를 내가 5분동안 받을 email의 개수라고 생각해보자. 주어진 가정으로 부터, 5분에 평균적으로 1개의 메일을 받을 것임을 알 수 있다. 따라서 단위 시간 = 5분 일때, $\\lambda=1$이 된다.\n",
        "$$\n",
        "P_X(k) =\n",
        "\\begin{cases}\n",
        "e^{-1}/k! \\quad (\\text{for}  k \\in R_X) \\\\\n",
        "0 \\quad \\text{(otherwise)}.\n",
        "\\end{cases}\n",
        "$$\n",
        "따라서 5분간 메일을 한개도 받지 않을 확률은 $k=0$인 경우를 의미한다.\n",
        "$$\n",
        "P_X(0) = e^{-1}.\n",
        "$$\n",
        "\n",
        "> ### Q4-2-2. 10분 동안 4개 이상의 메일을 받을 확률을 구하시오 (Hint: Use poisson distribution)\n",
        "\n",
        "> ### A4-2-2. 이 경우엔 단위 시간이 10분 이므로, 평균 = $\\lambda$ = 2 이다. 따라서\n",
        "$$\n",
        "P_X(k) =\n",
        "\\begin{cases}\n",
        "e^{-2}2^k/k! \\quad  (\\text{for}  k \\in R_X) \\\\\n",
        "0 \\quad \\text{(otherwise)}.\n",
        "\\end{cases}\n",
        "$$\n",
        "가 된다. 메일을 4개 이상 받을 확률은\n",
        "$$\n",
        "P_X(4) + P_X(5) + ... = 1 - P_X(0) - P_X(1) -P_X(2) - P_X(3) \\\\\n",
        "= 1 - e^{-2} - 2e^{-2} - 2e^{-2} - 4/3 (e^{-2}) \\\\\n",
        "= 1 - e^{-2}(19/3)\n",
        "$$\n",
        "이 된다."
      ],
      "metadata": {
        "id": "_R_7E95wrlf5"
      }
    },
    {
      "cell_type": "markdown",
      "source": [
        "# Q5. Bayes Rule"
      ],
      "metadata": {
        "id": "Hdblftbtrlf5"
      }
    },
    {
      "cell_type": "markdown",
      "source": [
        "> ## P(H)를 내가 두통이 걸릴 확률, P(F)를 내가 감기가 걸릴 확률이라고 하자. 다음과 같은 6건의 '나의 과거 의료기록 데이터'가 주어졌다고 할 때, Bayes Rule을 이용하여 $P(F|H)$를 계산하시오.\n",
        "\n",
        "|  H (두통)     | F (감기) |\n",
        "| ----------- | ----------- |\n",
        "| F   | F       |\n",
        "| T   | F        |\n",
        "| F   | F        |\n",
        "| T   | T        |\n",
        "| T   | T        |\n",
        "| F   | T        |\n",
        "\n",
        "> ### A5.\n",
        "$$\n",
        "P(H=T) = 1/2 \\\\\n",
        "P(F=T) = 1/2 \\\\\n",
        "P(H=T|F=T) = P(H=T,F=T)/P(F=T) = 1/3 / 1/2 = 2/3 \\\\\n",
        "P(F=T|H=T) = P(H=T|F=T)P(F=T) / P(H=T) = (2/3*1/2) / 1/2 = 2/3.\n",
        "$$\n",
        "\n",
        "추가적으로,\n",
        "$$\n",
        "1/2 = P(F=T) = P(F=T,H=T) + P(F=T,H=F) \\\\\n",
        "= P(F=T|H=T)P(H=T) + P(F=T|H=F)P(H=F) \\\\\n",
        "= 2/3 * 1/2 + 1/3 * 1/2 = 1/2\n",
        "$$\n",
        "으로부터, law of total probability가 성립함을 알 수  있다.\n",
        "\n",
        "\n"
      ],
      "metadata": {
        "id": "fk4VjT8qrlf6"
      }
    },
    {
      "cell_type": "markdown",
      "source": [
        "# Reference\n",
        "\n",
        "1. https://www.cs.bu.edu/fac/snyder/cs237/\n",
        "2. https://www.probabilitycourse.com/"
      ],
      "metadata": {
        "id": "N2I3fIQot-WT"
      }
    }
  ]
}